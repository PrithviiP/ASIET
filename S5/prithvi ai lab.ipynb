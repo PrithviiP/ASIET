{
 "cells": [
  {
   "cell_type": "code",
   "execution_count": 1,
   "id": "03480728-7c70-412b-bc55-a269621a79e4",
   "metadata": {},
   "outputs": [
    {
     "name": "stdin",
     "output_type": "stream",
     "text": [
      "enter the sentence: python is good\n"
     ]
    },
    {
     "name": "stdout",
     "output_type": "stream",
     "text": [
      "number of characters 14\n",
      "uppercase: PYTHON IS GOOD\n",
      "lower case: python is good\n",
      "with underscores: python_is_good\n",
      "the word python is in the sentence:\n"
     ]
    }
   ],
   "source": [
    "n = input(\"enter the sentence:\")\n",
    "print(\"number of characters\",len(n)) \n",
    "print(\"uppercase:\",n.upper())\n",
    "print (\"lower case:\",n.lower())\n",
    "print(\"with underscores:\",n.replace(\" \",\"_\"))\n",
    "if \"python\" in n :\n",
    "\tprint(\"the word python is in the sentence:\")\n",
    "else:\n",
    "\tprint(\"the word python is not in the sentence:\")\n",
    "\n"
   ]
  },
  {
   "cell_type": "code",
   "execution_count": 2,
   "id": "f005395d-1a00-4a50-9638-4c68f92b4736",
   "metadata": {},
   "outputs": [
    {
     "name": "stdin",
     "output_type": "stream",
     "text": [
      "enter the number: 56\n",
      "enter the second number: 67\n",
      "enter the string: good\n"
     ]
    },
    {
     "name": "stdout",
     "output_type": "stream",
     "text": [
      "the sum is: 123.0\n",
      "goodis fun\n"
     ]
    }
   ],
   "source": [
    "a = int(input(\"enter the number:\"))\n",
    "b = float(input(\"enter the second number:\"))\n",
    "c = input(\"enter the string:\")\n",
    "sum =  a+b\n",
    "print(\"the sum is:\",sum)\n",
    "ci = c + \"is fun\"\n",
    "print(ci)"
   ]
  },
  {
   "cell_type": "code",
   "execution_count": 3,
   "id": "c39ba18b-192b-4392-8ee8-8177a6f5f66f",
   "metadata": {},
   "outputs": [
    {
     "name": "stdout",
     "output_type": "stream",
     "text": [
      "helloworld\n"
     ]
    }
   ],
   "source": [
    "print(\"helloworld\")\n"
   ]
  },
  {
   "cell_type": "code",
   "execution_count": 4,
   "id": "82b9f99a-e641-40a5-b305-ce46866c2d6e",
   "metadata": {},
   "outputs": [
    {
     "name": "stdin",
     "output_type": "stream",
     "text": [
      "enter your marks(0-100): 78\n"
     ]
    },
    {
     "name": "stdout",
     "output_type": "stream",
     "text": [
      "grade b\n"
     ]
    }
   ],
   "source": [
    "m = int(input(\"enter your marks(0-100):\"))\n",
    "if m >= 90:\n",
    "\tprint(\"grade a\")\n",
    "elif m >= 75:\n",
    "\tprint(\"grade b\")\t\t\t\n",
    "elif m >= 60:\n",
    "\tprint(\"grade c\")\n",
    "elif m >= 40:\n",
    "\tprint(\"grade d\")\n",
    "else:\n",
    "\tprint(\"grade f\")\t\t\t\t\t\t\t\t\t\t\t\t\n",
    "    "
   ]
  },
  {
   "cell_type": "code",
   "execution_count": 5,
   "id": "cf591279-b080-45e6-949a-bd60b739222f",
   "metadata": {},
   "outputs": [
    {
     "name": "stdin",
     "output_type": "stream",
     "text": [
      "enter a number: 87\n"
     ]
    },
    {
     "name": "stdout",
     "output_type": "stream",
     "text": [
      "postive number\n"
     ]
    }
   ],
   "source": [
    "n = int(input(\"enter a number:\"))\n",
    "if n > 0:\n",
    "\tprint(\"postive number\")\n",
    "elif n == 0:\n",
    "\tprint(\"zero\")\n",
    "else:\n",
    "\tprint(\"negative  number\")\t"
   ]
  },
  {
   "cell_type": "code",
   "execution_count": 6,
   "id": "c40171d2-ce96-410e-9b5c-429db806c9a1",
   "metadata": {},
   "outputs": [
    {
     "name": "stdin",
     "output_type": "stream",
     "text": [
      "Enter the first number: 56\n",
      "Enter the second number: 76\n",
      "Enter the desired function number:\n",
      "1. Addition\n",
      "2.Division\n",
      "3.Multiply\n",
      "4.Division\n",
      " 1\n"
     ]
    },
    {
     "name": "stdout",
     "output_type": "stream",
     "text": [
      "132\n"
     ]
    }
   ],
   "source": [
    "def add(n1,n2):\n",
    "\t return n1+n2\n",
    "\n",
    "def subtract(n1,n2):\n",
    "\treturn n1-n2\n",
    "\n",
    "def mult(n1,n2):\n",
    "\treturn n1*n2\n",
    "\t\n",
    "def divide(n1,n2):\n",
    "\treturn n1/n2\n",
    "\t\n",
    "def menu():\n",
    "\tfn = int(input(\"Enter the desired function number:\\n1. Addition\\n2.Division\\n3.Multiply\\n4.Division\\n\"))\n",
    "\tif fn == 1:\n",
    "\t\tprint(add(n1,n2))\n",
    "\n",
    "\telif fn == 2:\n",
    "\t\tprint(subtract(n1,n2))\n",
    "\n",
    "\telif fn == 3:\n",
    "\t\tprint(mult(n1,n2))\n",
    "\t\n",
    "\telif fn == 4:\n",
    "\t\tprint(divide(n1,n2))\n",
    "\n",
    "\telse:\n",
    "\t\tprint(\"Invalid function\")\n",
    "\t\tmenu()\n",
    "\n",
    "n1=int(input(\"Enter the first number:\"))\n",
    "n2=int(input(\"Enter the second number:\"))\n",
    "menu()\n"
   ]
  },
  {
   "cell_type": "code",
   "execution_count": 7,
   "id": "4a629554-ea84-43c7-b55f-59a62314b788",
   "metadata": {},
   "outputs": [
    {
     "name": "stdout",
     "output_type": "stream",
     "text": [
      "you can go\n",
      "no need to take umbrella\n"
     ]
    }
   ],
   "source": [
    "is_sunny = True\n",
    "have_umbrella = False\n",
    "if  is_sunny or have_umberalla:\n",
    "\tprint(\"you can go\")\n",
    "else :\n",
    "\tprint(\"stay home\")\n",
    "if not is_sunny:\n",
    "\tprint(\"should carry the umbrella\")\t\t\n",
    "else:\n",
    "\tprint(\"no need to take umbrella\")\t"
   ]
  },
  {
   "cell_type": "code",
   "execution_count": 8,
   "id": "0c59b635-37cf-4bbf-835d-feccfa05216e",
   "metadata": {},
   "outputs": [
    {
     "name": "stdin",
     "output_type": "stream",
     "text": [
      "enter the first  number: 34\n",
      "enter the second number: 4\n"
     ]
    },
    {
     "name": "stdout",
     "output_type": "stream",
     "text": [
      "sum is : 38\n",
      "product is : 136\n",
      "division is : 8.5\n",
      "floordivision is : 8\n",
      "modulo is : 2\n",
      "expo is  1336336\n"
     ]
    }
   ],
   "source": [
    "a = int(input(\"enter the first  number:\"))\n",
    "b = int(input(\"enter the second number:\"))\n",
    "sum =  a+b\n",
    "multiply = a * b\n",
    "divison = a/b\n",
    "floordivision = a//b\n",
    "modulo = a%b\n",
    "expo = a**b\n",
    "print(\"sum is :\",sum)\n",
    "print(\"product is :\",multiply)\n",
    "print(\"division is :\",divison)\n",
    "print(\"floordivision is :\",floordivision)\n",
    "print(\"modulo is :\",modulo)\n",
    "print(\"expo is \",expo)"
   ]
  },
  {
   "cell_type": "code",
   "execution_count": null,
   "id": "8a5e6ed1-9feb-4f07-8e10-f5e597631ebc",
   "metadata": {},
   "outputs": [],
   "source": []
  }
 ],
 "metadata": {
  "kernelspec": {
   "display_name": "Python 3 (ipykernel)",
   "language": "python",
   "name": "python3"
  },
  "language_info": {
   "codemirror_mode": {
    "name": "ipython",
    "version": 3
   },
   "file_extension": ".py",
   "mimetype": "text/x-python",
   "name": "python",
   "nbconvert_exporter": "python",
   "pygments_lexer": "ipython3",
   "version": "3.10.12"
  }
 },
 "nbformat": 4,
 "nbformat_minor": 5
}
